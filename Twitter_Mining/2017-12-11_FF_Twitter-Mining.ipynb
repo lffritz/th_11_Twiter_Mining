{
 "cells": [
  {
   "cell_type": "markdown",
   "metadata": {},
   "source": [
    "> Der Kernel dieses Notebooks sollte und kann ohne eine eigene Twitter-API nicht neu gestartet werden."
   ]
  },
  {
   "cell_type": "markdown",
   "metadata": {},
   "source": [
    "# Twitter Mining\n",
    "\n",
    "\n",
    "Twitter Mining kann neben Python natürlich auch in R betrieben werden. Dazu benötigen wir das Package `twitteR`. Mithilfe von Anaconda ist dieses Packages ganz leicht zu installieren. Dazu öffnen wir einfach **RStudio** und geben folgenden Befehl in die Konsole ein: `install.packages('twitteR')`. Nun haben wir das Package installiert und können es in unserem Notebook verwenden. \n",
    "\n",
    "Als nächstes laden wir die Bibliothek."
   ]
  },
  {
   "cell_type": "code",
   "execution_count": 2,
   "metadata": {
    "collapsed": true
   },
   "outputs": [],
   "source": [
    "library(twitteR)"
   ]
  },
  {
   "cell_type": "markdown",
   "metadata": {},
   "source": [
    "Um unsere Twitter-Api zu authentifizieren brauchen wir wiederum die `ROAuth` Bibliothek. Diese müssen wir auf die gleiche Weise installieren, wie bei `twitteR`. \n",
    "\n",
    "Dann kann auch diese Bibliothek geladen werden."
   ]
  },
  {
   "cell_type": "code",
   "execution_count": 5,
   "metadata": {
    "collapsed": true
   },
   "outputs": [],
   "source": [
    "library(ROAuth)"
   ]
  },
  {
   "cell_type": "markdown",
   "metadata": {},
   "source": [
    "Jetzt können wir unsere Authentifzierung durchführen."
   ]
  },
  {
   "cell_type": "code",
   "execution_count": 11,
   "metadata": {},
   "outputs": [
    {
     "name": "stdout",
     "output_type": "stream",
     "text": [
      "[1] \"Using direct authentication\"\n"
     ]
    }
   ],
   "source": [
    "CONSUMER_KEY = 'v6hhWSLggZvhqFZr6fFtbO7t1'\n",
    "CONSUMER_SECRET = 'pNLQCcbUDIsPXfw7TWzlSCJQ1kcswk4SW1lZOWL8Yiqe6jr8qU'\n",
    "OAUTH_TOKEN = '168648836-atEdUT3jeyWtCq1xQL2JhsrQQTCUEcmfxEamdsZ4' \n",
    "OAUTH_TOKEN_SECRET = 'ASJ31Q9vW1eKpZxjlyz364pqBtoFQItimexlvF5V7wF22'\n",
    "\n",
    "setup_twitter_oauth(CONSUMER_KEY, CONSUMER_SECRET, OAUTH_TOKEN, OAUTH_TOKEN_SECRET)"
   ]
  },
  {
   "cell_type": "markdown",
   "metadata": {},
   "source": [
    "Nun können wir nach Tweets suchen. Dazu benötigen wir die `searchTwitter()` Funktion."
   ]
  },
  {
   "cell_type": "code",
   "execution_count": 19,
   "metadata": {
    "collapsed": true
   },
   "outputs": [],
   "source": [
    "twd = searchTwitter(\"#TheWalkingDead\", n=100)"
   ]
  },
  {
   "cell_type": "code",
   "execution_count": 20,
   "metadata": {},
   "outputs": [
    {
     "data": {
      "text/plain": [
       "[[1]]\n",
       "[1] \"fallenangel1578: RT @AlisonHabbo_: sorry cant go go school tomorrow, theres been a death in my family #RipCarl #TheWalkingDead https://t.co/IeUW7eBZg3\"\n",
       "\n",
       "[[2]]\n",
       "[1] \"kinguly_: RT @katchababe: Only 4 characters left from Season 1. Dunno what to feel. #TheWalkingDead https://t.co/hSgQAR3Ozj\"\n",
       "\n",
       "[[3]]\n",
       "[1] \"MuskyPenguin: Just caught #TheWalkingDead mid season finale at 6am on this here Monday morning I'm all kinds of messed up RN <ed><U+00A0><U+00BD><ed><U+00B8><U+00A2> #NoSpoilers\"\n",
       "\n",
       "[[4]]\n",
       "[1] \"kevmcmillan86: RT @officialgreview: New Cinematic Trailer for OVERKILLs The Walking Dead https://t.co/Ar07CKbybR\\n#thewalkingdead #overkill #starbreezes",
       "\"\n",
       "\n",
       "[[5]]\n",
       "[1] \"MashaiL_suhaim: RT @Moe_Dogg89: What!!! What!!! What!!!!! What!!!!!! No!!!! #TheWalkingDead https://t.co/9odo6Ne2El\"\n",
       "\n",
       "[[6]]\n",
       "[1] \"ralfiee_: RT @GalarzaJuanj: Just finished that mid season finale.....WOW #thewalkingdead https://t.co/qGCNjUngxp\"\n"
      ]
     },
     "metadata": {},
     "output_type": "display_data"
    }
   ],
   "source": [
    "head(twd)"
   ]
  },
  {
   "cell_type": "markdown",
   "metadata": {},
   "source": [
    "Wir benutzen die `strip_retweets` Funktion, um die offizielle API-Retweetfunktion aus unseren Daten zu entfernen."
   ]
  },
  {
   "cell_type": "code",
   "execution_count": 21,
   "metadata": {},
   "outputs": [
    {
     "data": {
      "text/plain": [
       "[[1]]\n",
       "[1] \"MuskyPenguin: Just caught #TheWalkingDead mid season finale at 6am on this here Monday morning I'm all kinds of messed up RN <ed><U+00A0><U+00BD><ed><U+00B8><U+00A2> #NoSpoilers\"\n",
       "\n",
       "[[2]]\n",
       "[1] \"nadhrahrdzn: Scott Gimple did Chandler so dirty Im fuming! #TheWalkingDead https://t.co/ZSHLclPQBX\"\n",
       "\n",
       "[[3]]\n",
       "[1] \"Mousefan98: @KRRowe @ithrah69 Needless to say after last night I know have one very upset daughter this morning! #TheWalkingDead\"\n",
       "\n",
       "[[4]]\n",
       "[1] \"FormulaTV: RECAP | La destrucción y la incertidumbre se convierten en protagonistas del 8x08 de #TheWalkingDead",
       " https://t.co/Na2YeXNS9E\"\n",
       "\n",
       "[[5]]\n",
       "[1] \"Sergivs8: @foxtves Jajaja gracias a ustedes! Carmina Forever! #Deadcimo a ver si este capítulo de #TheWalkingDead es un poco",
       " https://t.co/h6D8e2ScF3\"\n",
       "\n",
       "[[6]]\n",
       "[1] \"neojedigoddess: #TheWalkingDead\\n\\nWhy is everyone so shocked? Chandler talked about wanting to go to college, he cut his hair for a",
       " https://t.co/91A3AOahnT\"\n"
      ]
     },
     "metadata": {},
     "output_type": "display_data"
    }
   ],
   "source": [
    "head(strip_retweets(twd,strip_manual=TRUE,strip_mt=TRUE)) "
   ]
  },
  {
   "cell_type": "markdown",
   "metadata": {},
   "source": [
    "Das schöne an R ist, dass die Tweets gleich in einer schönen Struktur ausgegeben werden. Man benötigt hier alos nicht, wie in Python, das Json-Format. Was uns auch auffällt, ist, dass *R* keine Metadaten zu unseren Tweets ausgibt.\n",
    "\n",
    "Unsere Tweets können wir nun auch in einem DataFrame speichern."
   ]
  },
  {
   "cell_type": "code",
   "execution_count": 23,
   "metadata": {
    "collapsed": true
   },
   "outputs": [],
   "source": [
    "df <- twListToDF(twd)"
   ]
  },
  {
   "cell_type": "code",
   "execution_count": 24,
   "metadata": {},
   "outputs": [
    {
     "data": {
      "text/html": [
       "<table>\n",
       "<thead><tr><th scope=col>text</th><th scope=col>favorited</th><th scope=col>favoriteCount</th><th scope=col>replyToSN</th><th scope=col>created</th><th scope=col>truncated</th><th scope=col>replyToSID</th><th scope=col>id</th><th scope=col>replyToUID</th><th scope=col>statusSource</th><th scope=col>screenName</th><th scope=col>retweetCount</th><th scope=col>isRetweet</th><th scope=col>retweeted</th><th scope=col>longitude</th><th scope=col>latitude</th></tr></thead>\n",
       "<tbody>\n",
       "\t<tr><td><span style=white-space:pre-wrap>RT @AlisonHabbo_: sorry cant go go school tomorrow, theres been a death in my family #RipCarl #TheWalkingDead https://t.co/IeUW7eBZg3                              </span></td><td>FALSE                                                                                                                                                                                                      </td><td>0                                                                                                                                                                                                          </td><td>NA                                                                                                                                                                                                         </td><td>2017-12-11 11:23:06                                                                                                                                                                                        </td><td>FALSE                                                                                                                                                                                                      </td><td>NA                                                                                                                                                                                                         </td><td>940180133117390849                                                                                                                                                                                         </td><td>NA                                                                                                                                                                                                         </td><td>&lt;a href=\"http://twitter.com/download/android\" rel=\"nofollow\"&gt;Twitter for Android&lt;/a&gt;                                                                                                           </td><td>fallenangel1578                                                                                                                                                                                            </td><td> 14                                                                                                                                                                                                        </td><td> TRUE                                                                                                                                                                                                      </td><td>FALSE                                                                                                                                                                                                      </td><td>NA                                                                                                                                                                                                         </td><td>NA                                                                                                                                                                                                         </td></tr>\n",
       "\t<tr><td><span style=white-space:pre-wrap>RT @katchababe: Only 4 characters left from Season 1. Dunno what to feel. #TheWalkingDead https://t.co/hSgQAR3Ozj                                                  </span></td><td>FALSE                                                                                                                                                                                                      </td><td>0                                                                                                                                                                                                          </td><td>NA                                                                                                                                                                                                         </td><td>2017-12-11 11:23:05                                                                                                                                                                                        </td><td>FALSE                                                                                                                                                                                                      </td><td>NA                                                                                                                                                                                                         </td><td>940180130055385088                                                                                                                                                                                         </td><td>NA                                                                                                                                                                                                         </td><td>&lt;a href=\"http://twitter.com/download/android\" rel=\"nofollow\"&gt;Twitter for Android&lt;/a&gt;                                                                                                           </td><td><span style=white-space:pre-wrap>kinguly_       </span>                                                                                                                                                    </td><td><span style=white-space:pre-wrap>  6</span>                                                                                                                                                                </td><td> TRUE                                                                                                                                                                                                      </td><td>FALSE                                                                                                                                                                                                      </td><td>NA                                                                                                                                                                                                         </td><td>NA                                                                                                                                                                                                         </td></tr>\n",
       "\t<tr><td>Just caught #TheWalkingDead mid season finale at 6am on this here Monday morning I'm all kinds of messed up RN &lt;ed&gt;&lt;U+00A0&gt;&lt;U+00BD&gt;&lt;ed&gt;&lt;U+00B8&gt;&lt;U+00A2&gt; #NoSpoilers</td><td>FALSE                                                                                                                                                                                                  </td><td>0                                                                                                                                                                                                      </td><td>NA                                                                                                                                                                                                     </td><td>2017-12-11 11:23:04                                                                                                                                                                                    </td><td>FALSE                                                                                                                                                                                                  </td><td>NA                                                                                                                                                                                                     </td><td>940180126087688192                                                                                                                                                                                     </td><td>NA                                                                                                                                                                                                     </td><td>&lt;a href=\"http://twitter.com/download/android\" rel=\"nofollow\"&gt;Twitter for Android&lt;/a&gt;                                                                                                       </td><td><span style=white-space:pre-wrap>MuskyPenguin   </span>                                                                                                                                                </td><td><span style=white-space:pre-wrap>  0</span>                                                                                                                                                            </td><td>FALSE                                                                                                                                                                                                  </td><td>FALSE                                                                                                                                                                                                  </td><td>NA                                                                                                                                                                                                     </td><td>NA                                                                                                                                                                                                     </td></tr>\n",
       "\t<tr><td><span style=white-space:pre-wrap>RT @officialgreview: New Cinematic Trailer for ‘OVERKILL’s The Walking Dead’ https://t.co/Ar07CKbybR\n",
       "#thewalkingdead #overkill #starbreezes…                      </span></td><td>FALSE                                                                                                                                                                                                      </td><td>0                                                                                                                                                                                                          </td><td>NA                                                                                                                                                                                                         </td><td>2017-12-11 11:23:01                                                                                                                                                                                        </td><td>FALSE                                                                                                                                                                                                      </td><td>NA                                                                                                                                                                                                         </td><td>940180113336995840                                                                                                                                                                                         </td><td>NA                                                                                                                                                                                                         </td><td>&lt;a href=\"http://twitter.com/download/android\" rel=\"nofollow\"&gt;Twitter for Android&lt;/a&gt;                                                                                                           </td><td><span style=white-space:pre-wrap>kevmcmillan86  </span>                                                                                                                                                    </td><td><span style=white-space:pre-wrap>  1</span>                                                                                                                                                                </td><td> TRUE                                                                                                                                                                                                      </td><td>FALSE                                                                                                                                                                                                      </td><td>NA                                                                                                                                                                                                         </td><td>NA                                                                                                                                                                                                         </td></tr>\n",
       "\t<tr><td><span style=white-space:pre-wrap>RT @Moe_Dogg89: What!!! What!!! What!!!!! What!!!!!! No!!!! #TheWalkingDead https://t.co/9odo6Ne2El                                                                </span></td><td>FALSE                                                                                                                                                                                                      </td><td>0                                                                                                                                                                                                          </td><td>NA                                                                                                                                                                                                         </td><td>2017-12-11 11:23:00                                                                                                                                                                                        </td><td>FALSE                                                                                                                                                                                                      </td><td>NA                                                                                                                                                                                                         </td><td>940180111747436544                                                                                                                                                                                         </td><td>NA                                                                                                                                                                                                         </td><td>&lt;a href=\"http://twitter.com/download/android\" rel=\"nofollow\"&gt;Twitter for Android&lt;/a&gt;                                                                                                           </td><td>MashaiL_suhaim                                                                                                                                                                                             </td><td>922                                                                                                                                                                                                        </td><td> TRUE                                                                                                                                                                                                      </td><td>FALSE                                                                                                                                                                                                      </td><td>NA                                                                                                                                                                                                         </td><td>NA                                                                                                                                                                                                         </td></tr>\n",
       "\t<tr><td><span style=white-space:pre-wrap>RT @GalarzaJuanj: Just finished that mid season finale.....WOW #thewalkingdead https://t.co/qGCNjUngxp                                                             </span></td><td>FALSE                                                                                                                                                                                                      </td><td>0                                                                                                                                                                                                          </td><td>NA                                                                                                                                                                                                         </td><td>2017-12-11 11:22:59                                                                                                                                                                                        </td><td>FALSE                                                                                                                                                                                                      </td><td>NA                                                                                                                                                                                                         </td><td>940180106231681024                                                                                                                                                                                         </td><td>NA                                                                                                                                                                                                         </td><td><span style=white-space:pre-wrap>&lt;a href=\"http://twitter.com/download/iphone\" rel=\"nofollow\"&gt;Twitter for iPhone&lt;/a&gt;  </span>                                                                   </td><td><span style=white-space:pre-wrap>ralfiee_       </span>                                                                                                                                                    </td><td><span style=white-space:pre-wrap>  1</span>                                                                                                                                                                </td><td> TRUE                                                                                                                                                                                                      </td><td>FALSE                                                                                                                                                                                                      </td><td>NA                                                                                                                                                                                                         </td><td>NA                                                                                                                                                                                                         </td></tr>\n",
       "</tbody>\n",
       "</table>\n"
      ],
      "text/latex": [
       "\\begin{tabular}{r|llllllllllllllll}\n",
       " text & favorited & favoriteCount & replyToSN & created & truncated & replyToSID & id & replyToUID & statusSource & screenName & retweetCount & isRetweet & retweeted & longitude & latitude\\\\\n",
       "\\hline\n",
       "\t RT @AlisonHabbo\\_: sorry cant go go school tomorrow, theres been a death in my family \\#RipCarl \\#TheWalkingDead https://t.co/IeUW7eBZg3                               & FALSE                                                                                                                                                                     & 0                                                                                                                                                                         & NA                                                                                                                                                                        & 2017-12-11 11:23:06                                                                                                                                                       & FALSE                                                                                                                                                                     & NA                                                                                                                                                                        & 940180133117390849                                                                                                                                                        & NA                                                                                                                                                                        & <a href=\"http://twitter.com/download/android\" rel=\"nofollow\">Twitter for Android</a>                                                                                      & fallenangel1578                                                                                                                                                           &  14                                                                                                                                                                       &  TRUE                                                                                                                                                                     & FALSE                                                                                                                                                                     & NA                                                                                                                                                                        & NA                                                                                                                                                                       \\\\\n",
       "\t RT @katchababe: Only 4 characters left from Season 1. Dunno what to feel. \\#TheWalkingDead https://t.co/hSgQAR3Ozj                                                   & FALSE                                                                                                                                                                 & 0                                                                                                                                                                     & NA                                                                                                                                                                    & 2017-12-11 11:23:05                                                                                                                                                   & FALSE                                                                                                                                                                 & NA                                                                                                                                                                    & 940180130055385088                                                                                                                                                    & NA                                                                                                                                                                    & <a href=\"http://twitter.com/download/android\" rel=\"nofollow\">Twitter for Android</a>                                                                                  & kinguly\\_                                                                                                                                                            &   6                                                                                                                                                                   &  TRUE                                                                                                                                                                 & FALSE                                                                                                                                                                 & NA                                                                                                                                                                    & NA                                                                                                                                                                   \\\\\n",
       "\t Just caught \\#TheWalkingDead mid season finale at 6am on this here Monday morning I'm all kinds of messed up RN <ed><U+00A0><U+00BD><ed><U+00B8><U+00A2> \\#NoSpoilers & FALSE                                                                                                                                                                   & 0                                                                                                                                                                       & NA                                                                                                                                                                      & 2017-12-11 11:23:04                                                                                                                                                     & FALSE                                                                                                                                                                   & NA                                                                                                                                                                      & 940180126087688192                                                                                                                                                      & NA                                                                                                                                                                      & <a href=\"http://twitter.com/download/android\" rel=\"nofollow\">Twitter for Android</a>                                                                                    & MuskyPenguin                                                                                                                                                            &   0                                                                                                                                                                     & FALSE                                                                                                                                                                   & FALSE                                                                                                                                                                   & NA                                                                                                                                                                      & NA                                                                                                                                                                     \\\\\n",
       "\t RT @officialgreview: New Cinematic Trailer for ‘OVERKILL’s The Walking Dead’ https://t.co/Ar07CKbybR\n",
       "\\#thewalkingdead \\#overkill \\#starbreezes…                       & FALSE                                                                                                                                                                     & 0                                                                                                                                                                         & NA                                                                                                                                                                        & 2017-12-11 11:23:01                                                                                                                                                       & FALSE                                                                                                                                                                     & NA                                                                                                                                                                        & 940180113336995840                                                                                                                                                        & NA                                                                                                                                                                        & <a href=\"http://twitter.com/download/android\" rel=\"nofollow\">Twitter for Android</a>                                                                                      & kevmcmillan86                                                                                                                                                             &   1                                                                                                                                                                       &  TRUE                                                                                                                                                                     & FALSE                                                                                                                                                                     & NA                                                                                                                                                                        & NA                                                                                                                                                                       \\\\\n",
       "\t RT @Moe\\_Dogg89: What!!! What!!! What!!!!! What!!!!!! No!!!! \\#TheWalkingDead https://t.co/9odo6Ne2El                                                                 & FALSE                                                                                                                                                                   & 0                                                                                                                                                                       & NA                                                                                                                                                                      & 2017-12-11 11:23:00                                                                                                                                                     & FALSE                                                                                                                                                                   & NA                                                                                                                                                                      & 940180111747436544                                                                                                                                                      & NA                                                                                                                                                                      & <a href=\"http://twitter.com/download/android\" rel=\"nofollow\">Twitter for Android</a>                                                                                    & MashaiL\\_suhaim                                                                                                                                                        & 922                                                                                                                                                                     &  TRUE                                                                                                                                                                   & FALSE                                                                                                                                                                   & NA                                                                                                                                                                      & NA                                                                                                                                                                     \\\\\n",
       "\t RT @GalarzaJuanj: Just finished that mid season finale.....WOW \\#thewalkingdead https://t.co/qGCNjUngxp                                                              & FALSE                                                                                                                                                                 & 0                                                                                                                                                                     & NA                                                                                                                                                                    & 2017-12-11 11:22:59                                                                                                                                                   & FALSE                                                                                                                                                                 & NA                                                                                                                                                                    & 940180106231681024                                                                                                                                                    & NA                                                                                                                                                                    & <a href=\"http://twitter.com/download/iphone\" rel=\"nofollow\">Twitter for iPhone</a>                                                                                    & ralfiee\\_                                                                                                                                                            &   1                                                                                                                                                                   &  TRUE                                                                                                                                                                 & FALSE                                                                                                                                                                 & NA                                                                                                                                                                    & NA                                                                                                                                                                   \\\\\n",
       "\\end{tabular}\n"
      ],
      "text/markdown": [
       "\n",
       "text | favorited | favoriteCount | replyToSN | created | truncated | replyToSID | id | replyToUID | statusSource | screenName | retweetCount | isRetweet | retweeted | longitude | latitude | \n",
       "|---|---|---|---|---|---|\n",
       "| RT @AlisonHabbo_: sorry cant go go school tomorrow, theres been a death in my family #RipCarl #TheWalkingDead https://t.co/IeUW7eBZg3                               | FALSE                                                                                                                                                               | 0                                                                                                                                                                   | NA                                                                                                                                                                  | 2017-12-11 11:23:06                                                                                                                                                 | FALSE                                                                                                                                                               | NA                                                                                                                                                                  | 940180133117390849                                                                                                                                                  | NA                                                                                                                                                                  | <a href=\"http://twitter.com/download/android\" rel=\"nofollow\">Twitter for Android</a>                                                                                | fallenangel1578                                                                                                                                                     |  14                                                                                                                                                                 |  TRUE                                                                                                                                                               | FALSE                                                                                                                                                               | NA                                                                                                                                                                  | NA                                                                                                                                                                  | \n",
       "| RT @katchababe: Only 4 characters left from Season 1. Dunno what to feel. #TheWalkingDead https://t.co/hSgQAR3Ozj                                                   | FALSE                                                                                                                                                               | 0                                                                                                                                                                   | NA                                                                                                                                                                  | 2017-12-11 11:23:05                                                                                                                                                 | FALSE                                                                                                                                                               | NA                                                                                                                                                                  | 940180130055385088                                                                                                                                                  | NA                                                                                                                                                                  | <a href=\"http://twitter.com/download/android\" rel=\"nofollow\">Twitter for Android</a>                                                                                | kinguly_                                                                                                                                                            |   6                                                                                                                                                                 |  TRUE                                                                                                                                                               | FALSE                                                                                                                                                               | NA                                                                                                                                                                  | NA                                                                                                                                                                  | \n",
       "| Just caught #TheWalkingDead mid season finale at 6am on this here Monday morning I'm all kinds of messed up RN <ed><U+00A0><U+00BD><ed><U+00B8><U+00A2> #NoSpoilers | FALSE                                                                                                                                                               | 0                                                                                                                                                                   | NA                                                                                                                                                                  | 2017-12-11 11:23:04                                                                                                                                                 | FALSE                                                                                                                                                               | NA                                                                                                                                                                  | 940180126087688192                                                                                                                                                  | NA                                                                                                                                                                  | <a href=\"http://twitter.com/download/android\" rel=\"nofollow\">Twitter for Android</a>                                                                                | MuskyPenguin                                                                                                                                                        |   0                                                                                                                                                                 | FALSE                                                                                                                                                               | FALSE                                                                                                                                                               | NA                                                                                                                                                                  | NA                                                                                                                                                                  | \n",
       "| RT @officialgreview: New Cinematic Trailer for ‘OVERKILL’s The Walking Dead’ https://t.co/Ar07CKbybR\n",
       "#thewalkingdead #overkill #starbreezes…                       | FALSE                                                                                                                                                               | 0                                                                                                                                                                   | NA                                                                                                                                                                  | 2017-12-11 11:23:01                                                                                                                                                 | FALSE                                                                                                                                                               | NA                                                                                                                                                                  | 940180113336995840                                                                                                                                                  | NA                                                                                                                                                                  | <a href=\"http://twitter.com/download/android\" rel=\"nofollow\">Twitter for Android</a>                                                                                | kevmcmillan86                                                                                                                                                       |   1                                                                                                                                                                 |  TRUE                                                                                                                                                               | FALSE                                                                                                                                                               | NA                                                                                                                                                                  | NA                                                                                                                                                                  | \n",
       "| RT @Moe_Dogg89: What!!! What!!! What!!!!! What!!!!!! No!!!! #TheWalkingDead https://t.co/9odo6Ne2El                                                                 | FALSE                                                                                                                                                               | 0                                                                                                                                                                   | NA                                                                                                                                                                  | 2017-12-11 11:23:00                                                                                                                                                 | FALSE                                                                                                                                                               | NA                                                                                                                                                                  | 940180111747436544                                                                                                                                                  | NA                                                                                                                                                                  | <a href=\"http://twitter.com/download/android\" rel=\"nofollow\">Twitter for Android</a>                                                                                | MashaiL_suhaim                                                                                                                                                      | 922                                                                                                                                                                 |  TRUE                                                                                                                                                               | FALSE                                                                                                                                                               | NA                                                                                                                                                                  | NA                                                                                                                                                                  | \n",
       "| RT @GalarzaJuanj: Just finished that mid season finale.....WOW #thewalkingdead https://t.co/qGCNjUngxp                                                              | FALSE                                                                                                                                                               | 0                                                                                                                                                                   | NA                                                                                                                                                                  | 2017-12-11 11:22:59                                                                                                                                                 | FALSE                                                                                                                                                               | NA                                                                                                                                                                  | 940180106231681024                                                                                                                                                  | NA                                                                                                                                                                  | <a href=\"http://twitter.com/download/iphone\" rel=\"nofollow\">Twitter for iPhone</a>                                                                                  | ralfiee_                                                                                                                                                            |   1                                                                                                                                                                 |  TRUE                                                                                                                                                               | FALSE                                                                                                                                                               | NA                                                                                                                                                                  | NA                                                                                                                                                                  | \n",
       "\n",
       "\n"
      ],
      "text/plain": [
       "  text                                                                                                                                                               \n",
       "1 RT @AlisonHabbo_: sorry cant go go school tomorrow, theres been a death in my family #RipCarl #TheWalkingDead https://t.co/IeUW7eBZg3                              \n",
       "2 RT @katchababe: Only 4 characters left from Season 1. Dunno what to feel. #TheWalkingDead https://t.co/hSgQAR3Ozj                                                  \n",
       "3 Just caught #TheWalkingDead mid season finale at 6am on this here Monday morning I'm all kinds of messed up RN <ed><U+00A0><U+00BD><ed><U+00B8><U+00A2> #NoSpoilers\n",
       "4 RT @officialgreview: New Cinematic Trailer for OVERKILLs The Walking Dead https://t.co/Ar07CKbybR\\n#thewalkingdead #overkill #starbreezes",
       "                      \n",
       "5 RT @Moe_Dogg89: What!!! What!!! What!!!!! What!!!!!! No!!!! #TheWalkingDead https://t.co/9odo6Ne2El                                                                \n",
       "6 RT @GalarzaJuanj: Just finished that mid season finale.....WOW #thewalkingdead https://t.co/qGCNjUngxp                                                             \n",
       "  favorited favoriteCount replyToSN created             truncated replyToSID\n",
       "1 FALSE     0             NA        2017-12-11 11:23:06 FALSE     NA        \n",
       "2 FALSE     0             NA        2017-12-11 11:23:05 FALSE     NA        \n",
       "3 FALSE     0             NA        2017-12-11 11:23:04 FALSE     NA        \n",
       "4 FALSE     0             NA        2017-12-11 11:23:01 FALSE     NA        \n",
       "5 FALSE     0             NA        2017-12-11 11:23:00 FALSE     NA        \n",
       "6 FALSE     0             NA        2017-12-11 11:22:59 FALSE     NA        \n",
       "  id                 replyToUID\n",
       "1 940180133117390849 NA        \n",
       "2 940180130055385088 NA        \n",
       "3 940180126087688192 NA        \n",
       "4 940180113336995840 NA        \n",
       "5 940180111747436544 NA        \n",
       "6 940180106231681024 NA        \n",
       "  statusSource                                                                        \n",
       "1 <a href=\"http://twitter.com/download/android\" rel=\"nofollow\">Twitter for Android</a>\n",
       "2 <a href=\"http://twitter.com/download/android\" rel=\"nofollow\">Twitter for Android</a>\n",
       "3 <a href=\"http://twitter.com/download/android\" rel=\"nofollow\">Twitter for Android</a>\n",
       "4 <a href=\"http://twitter.com/download/android\" rel=\"nofollow\">Twitter for Android</a>\n",
       "5 <a href=\"http://twitter.com/download/android\" rel=\"nofollow\">Twitter for Android</a>\n",
       "6 <a href=\"http://twitter.com/download/iphone\" rel=\"nofollow\">Twitter for iPhone</a>  \n",
       "  screenName      retweetCount isRetweet retweeted longitude latitude\n",
       "1 fallenangel1578  14           TRUE     FALSE     NA        NA      \n",
       "2 kinguly_          6           TRUE     FALSE     NA        NA      \n",
       "3 MuskyPenguin      0          FALSE     FALSE     NA        NA      \n",
       "4 kevmcmillan86     1           TRUE     FALSE     NA        NA      \n",
       "5 MashaiL_suhaim  922           TRUE     FALSE     NA        NA      \n",
       "6 ralfiee_          1           TRUE     FALSE     NA        NA      "
      ]
     },
     "metadata": {},
     "output_type": "display_data"
    }
   ],
   "source": [
    "head(df)"
   ]
  },
  {
   "cell_type": "markdown",
   "metadata": {},
   "source": [
    "Wie wir sehen können, werden bei unserem Dataframe die Metadaten zu unseren Tweets mit ausgegeben. Wir können mit diesen Metdadaten jetzt ein wenig spielen. \n",
    "\n",
    "Beispielsweise können wir abfragen, ob es Tweets in unserem Datensatz gibt, die mehr als 900 Retweets haben:"
   ]
  },
  {
   "cell_type": "code",
   "execution_count": 35,
   "metadata": {},
   "outputs": [
    {
     "data": {
      "text/html": [
       "TRUE"
      ],
      "text/latex": [
       "TRUE"
      ],
      "text/markdown": [
       "TRUE"
      ],
      "text/plain": [
       "[1] TRUE"
      ]
     },
     "metadata": {},
     "output_type": "display_data"
    }
   ],
   "source": [
    "any(df$retweetCount > 900)"
   ]
  },
  {
   "cell_type": "markdown",
   "metadata": {},
   "source": [
    "Da dies der Fall ist, wollen wir natürlich wissen, wie viele Retweets, der am meist geteilte Tweet in unserem Datensatz hat:"
   ]
  },
  {
   "cell_type": "code",
   "execution_count": 36,
   "metadata": {},
   "outputs": [
    {
     "data": {
      "text/html": [
       "922"
      ],
      "text/latex": [
       "922"
      ],
      "text/markdown": [
       "922"
      ],
      "text/plain": [
       "[1] 922"
      ]
     },
     "metadata": {},
     "output_type": "display_data"
    }
   ],
   "source": [
    "max(df$retweetCount)"
   ]
  },
  {
   "cell_type": "markdown",
   "metadata": {},
   "source": [
    "Welche Nummer hat der Tweet mit den meisten Retweets:"
   ]
  },
  {
   "cell_type": "code",
   "execution_count": 39,
   "metadata": {},
   "outputs": [
    {
     "data": {
      "text/html": [
       "5"
      ],
      "text/latex": [
       "5"
      ],
      "text/markdown": [
       "5"
      ],
      "text/plain": [
       "[1] 5"
      ]
     },
     "metadata": {},
     "output_type": "display_data"
    }
   ],
   "source": [
    "which(df$retweetCount == '922')"
   ]
  },
  {
   "cell_type": "markdown",
   "metadata": {},
   "source": [
    "Welche Tweets wurden geteilt und welche nicht:"
   ]
  },
  {
   "cell_type": "code",
   "execution_count": 34,
   "metadata": {},
   "outputs": [
    {
     "data": {
      "text/html": [
       "<ol class=list-inline>\n",
       "\t<li>1</li>\n",
       "\t<li>2</li>\n",
       "\t<li>4</li>\n",
       "\t<li>5</li>\n",
       "\t<li>6</li>\n",
       "\t<li>7</li>\n",
       "\t<li>8</li>\n",
       "\t<li>9</li>\n",
       "\t<li>10</li>\n",
       "\t<li>11</li>\n",
       "\t<li>12</li>\n",
       "\t<li>14</li>\n",
       "\t<li>15</li>\n",
       "\t<li>16</li>\n",
       "\t<li>17</li>\n",
       "\t<li>19</li>\n",
       "\t<li>20</li>\n",
       "\t<li>21</li>\n",
       "\t<li>22</li>\n",
       "\t<li>24</li>\n",
       "\t<li>29</li>\n",
       "\t<li>30</li>\n",
       "\t<li>34</li>\n",
       "\t<li>36</li>\n",
       "\t<li>37</li>\n",
       "\t<li>38</li>\n",
       "\t<li>39</li>\n",
       "\t<li>41</li>\n",
       "\t<li>42</li>\n",
       "\t<li>43</li>\n",
       "\t<li>49</li>\n",
       "\t<li>50</li>\n",
       "\t<li>51</li>\n",
       "\t<li>52</li>\n",
       "\t<li>53</li>\n",
       "\t<li>54</li>\n",
       "\t<li>55</li>\n",
       "\t<li>56</li>\n",
       "\t<li>57</li>\n",
       "\t<li>58</li>\n",
       "\t<li>60</li>\n",
       "\t<li>62</li>\n",
       "\t<li>63</li>\n",
       "\t<li>64</li>\n",
       "\t<li>67</li>\n",
       "\t<li>68</li>\n",
       "\t<li>70</li>\n",
       "\t<li>71</li>\n",
       "\t<li>72</li>\n",
       "\t<li>74</li>\n",
       "\t<li>75</li>\n",
       "\t<li>76</li>\n",
       "\t<li>77</li>\n",
       "\t<li>78</li>\n",
       "\t<li>79</li>\n",
       "\t<li>82</li>\n",
       "\t<li>84</li>\n",
       "\t<li>85</li>\n",
       "\t<li>86</li>\n",
       "\t<li>87</li>\n",
       "\t<li>88</li>\n",
       "\t<li>90</li>\n",
       "\t<li>93</li>\n",
       "\t<li>95</li>\n",
       "\t<li>96</li>\n",
       "\t<li>98</li>\n",
       "\t<li>99</li>\n",
       "</ol>\n"
      ],
      "text/latex": [
       "\\begin{enumerate*}\n",
       "\\item 1\n",
       "\\item 2\n",
       "\\item 4\n",
       "\\item 5\n",
       "\\item 6\n",
       "\\item 7\n",
       "\\item 8\n",
       "\\item 9\n",
       "\\item 10\n",
       "\\item 11\n",
       "\\item 12\n",
       "\\item 14\n",
       "\\item 15\n",
       "\\item 16\n",
       "\\item 17\n",
       "\\item 19\n",
       "\\item 20\n",
       "\\item 21\n",
       "\\item 22\n",
       "\\item 24\n",
       "\\item 29\n",
       "\\item 30\n",
       "\\item 34\n",
       "\\item 36\n",
       "\\item 37\n",
       "\\item 38\n",
       "\\item 39\n",
       "\\item 41\n",
       "\\item 42\n",
       "\\item 43\n",
       "\\item 49\n",
       "\\item 50\n",
       "\\item 51\n",
       "\\item 52\n",
       "\\item 53\n",
       "\\item 54\n",
       "\\item 55\n",
       "\\item 56\n",
       "\\item 57\n",
       "\\item 58\n",
       "\\item 60\n",
       "\\item 62\n",
       "\\item 63\n",
       "\\item 64\n",
       "\\item 67\n",
       "\\item 68\n",
       "\\item 70\n",
       "\\item 71\n",
       "\\item 72\n",
       "\\item 74\n",
       "\\item 75\n",
       "\\item 76\n",
       "\\item 77\n",
       "\\item 78\n",
       "\\item 79\n",
       "\\item 82\n",
       "\\item 84\n",
       "\\item 85\n",
       "\\item 86\n",
       "\\item 87\n",
       "\\item 88\n",
       "\\item 90\n",
       "\\item 93\n",
       "\\item 95\n",
       "\\item 96\n",
       "\\item 98\n",
       "\\item 99\n",
       "\\end{enumerate*}\n"
      ],
      "text/markdown": [
       "1. 1\n",
       "2. 2\n",
       "3. 4\n",
       "4. 5\n",
       "5. 6\n",
       "6. 7\n",
       "7. 8\n",
       "8. 9\n",
       "9. 10\n",
       "10. 11\n",
       "11. 12\n",
       "12. 14\n",
       "13. 15\n",
       "14. 16\n",
       "15. 17\n",
       "16. 19\n",
       "17. 20\n",
       "18. 21\n",
       "19. 22\n",
       "20. 24\n",
       "21. 29\n",
       "22. 30\n",
       "23. 34\n",
       "24. 36\n",
       "25. 37\n",
       "26. 38\n",
       "27. 39\n",
       "28. 41\n",
       "29. 42\n",
       "30. 43\n",
       "31. 49\n",
       "32. 50\n",
       "33. 51\n",
       "34. 52\n",
       "35. 53\n",
       "36. 54\n",
       "37. 55\n",
       "38. 56\n",
       "39. 57\n",
       "40. 58\n",
       "41. 60\n",
       "42. 62\n",
       "43. 63\n",
       "44. 64\n",
       "45. 67\n",
       "46. 68\n",
       "47. 70\n",
       "48. 71\n",
       "49. 72\n",
       "50. 74\n",
       "51. 75\n",
       "52. 76\n",
       "53. 77\n",
       "54. 78\n",
       "55. 79\n",
       "56. 82\n",
       "57. 84\n",
       "58. 85\n",
       "59. 86\n",
       "60. 87\n",
       "61. 88\n",
       "62. 90\n",
       "63. 93\n",
       "64. 95\n",
       "65. 96\n",
       "66. 98\n",
       "67. 99\n",
       "\n",
       "\n"
      ],
      "text/plain": [
       " [1]  1  2  4  5  6  7  8  9 10 11 12 14 15 16 17 19 20 21 22 24 29 30 34 36 37\n",
       "[26] 38 39 41 42 43 49 50 51 52 53 54 55 56 57 58 60 62 63 64 67 68 70 71 72 74\n",
       "[51] 75 76 77 78 79 82 84 85 86 87 88 90 93 95 96 98 99"
      ]
     },
     "metadata": {},
     "output_type": "display_data"
    },
    {
     "data": {
      "text/html": [
       "<ol class=list-inline>\n",
       "\t<li>3</li>\n",
       "\t<li>13</li>\n",
       "\t<li>18</li>\n",
       "\t<li>23</li>\n",
       "\t<li>25</li>\n",
       "\t<li>26</li>\n",
       "\t<li>27</li>\n",
       "\t<li>28</li>\n",
       "\t<li>31</li>\n",
       "\t<li>32</li>\n",
       "\t<li>33</li>\n",
       "\t<li>35</li>\n",
       "\t<li>40</li>\n",
       "\t<li>44</li>\n",
       "\t<li>45</li>\n",
       "\t<li>46</li>\n",
       "\t<li>47</li>\n",
       "\t<li>48</li>\n",
       "\t<li>59</li>\n",
       "\t<li>61</li>\n",
       "\t<li>65</li>\n",
       "\t<li>66</li>\n",
       "\t<li>69</li>\n",
       "\t<li>73</li>\n",
       "\t<li>80</li>\n",
       "\t<li>81</li>\n",
       "\t<li>83</li>\n",
       "\t<li>89</li>\n",
       "\t<li>91</li>\n",
       "\t<li>92</li>\n",
       "\t<li>94</li>\n",
       "\t<li>97</li>\n",
       "\t<li>100</li>\n",
       "</ol>\n"
      ],
      "text/latex": [
       "\\begin{enumerate*}\n",
       "\\item 3\n",
       "\\item 13\n",
       "\\item 18\n",
       "\\item 23\n",
       "\\item 25\n",
       "\\item 26\n",
       "\\item 27\n",
       "\\item 28\n",
       "\\item 31\n",
       "\\item 32\n",
       "\\item 33\n",
       "\\item 35\n",
       "\\item 40\n",
       "\\item 44\n",
       "\\item 45\n",
       "\\item 46\n",
       "\\item 47\n",
       "\\item 48\n",
       "\\item 59\n",
       "\\item 61\n",
       "\\item 65\n",
       "\\item 66\n",
       "\\item 69\n",
       "\\item 73\n",
       "\\item 80\n",
       "\\item 81\n",
       "\\item 83\n",
       "\\item 89\n",
       "\\item 91\n",
       "\\item 92\n",
       "\\item 94\n",
       "\\item 97\n",
       "\\item 100\n",
       "\\end{enumerate*}\n"
      ],
      "text/markdown": [
       "1. 3\n",
       "2. 13\n",
       "3. 18\n",
       "4. 23\n",
       "5. 25\n",
       "6. 26\n",
       "7. 27\n",
       "8. 28\n",
       "9. 31\n",
       "10. 32\n",
       "11. 33\n",
       "12. 35\n",
       "13. 40\n",
       "14. 44\n",
       "15. 45\n",
       "16. 46\n",
       "17. 47\n",
       "18. 48\n",
       "19. 59\n",
       "20. 61\n",
       "21. 65\n",
       "22. 66\n",
       "23. 69\n",
       "24. 73\n",
       "25. 80\n",
       "26. 81\n",
       "27. 83\n",
       "28. 89\n",
       "29. 91\n",
       "30. 92\n",
       "31. 94\n",
       "32. 97\n",
       "33. 100\n",
       "\n",
       "\n"
      ],
      "text/plain": [
       " [1]   3  13  18  23  25  26  27  28  31  32  33  35  40  44  45  46  47  48  59\n",
       "[20]  61  65  66  69  73  80  81  83  89  91  92  94  97 100"
      ]
     },
     "metadata": {},
     "output_type": "display_data"
    }
   ],
   "source": [
    "which(df$isRetweet == 'TRUE')\n",
    "\n",
    "which(df$isRetweet == 'FALSE')"
   ]
  },
  {
   "cell_type": "markdown",
   "metadata": {},
   "source": [
    "Dies können wir mithilfe von ggplot2 auch schön in einer Graphik anzeigen lassen:"
   ]
  },
  {
   "cell_type": "code",
   "execution_count": 43,
   "metadata": {
    "collapsed": true
   },
   "outputs": [],
   "source": [
    "library(ggplot2)"
   ]
  },
  {
   "cell_type": "code",
   "execution_count": 45,
   "metadata": {},
   "outputs": [
    {
     "data": {},
     "metadata": {},
     "output_type": "display_data"
    },
    {
     "data": {
      "image/png": "[encoded data removed]",
      "text/plain": [
       "plot without title"
      ]
     },
     "metadata": {},
     "output_type": "display_data"
    }
   ],
   "source": [
    "ggplot(df, aes(isRetweet)) + \n",
    "  geom_bar()"
   ]
  },
  {
   "cell_type": "markdown",
   "metadata": {},
   "source": [
    "In unserem Datensatz gibt es also rund doppelt soviele Tweets, die geteilt wurde, wie nicht geteilte. Daraus lässt sich schließen, dass die The Walking Dead Community sehr aktiv auf Twitter ist."
   ]
  },
  {
   "cell_type": "markdown",
   "metadata": {},
   "source": [
    "## Word Clouds\n",
    "\n",
    "\n",
    "Ein schöner Aspekt, den ich in R gefunden habe, ist das Erstellen von Word Clouds. Dies macht bei der Analyse von Tweets Sinn, da sich bei Twitter alles um Tweets mit Schlagwörtern dreht. Man hat nunmal nur maximal 280 Zeichen, um seine Nachricht an die anderen User rüber zu kriegen. Da sollte darauf geachtet werden, sich kurz und prägnant zu halten. \n",
    "\n",
    "Um eine Word Cloud anschaulich darzustellen, habe ich beschlossen, die Usertimeline von Donald Trump zu benutzen. Er ist ein sehr aktiver Twitterer und seine Tweets sind sehr polarisierend. Deshalb ist es interesstant zu sehen, welche Wörter er häufig benutzt."
   ]
  },
  {
   "cell_type": "code",
   "execution_count": 108,
   "metadata": {
    "collapsed": true
   },
   "outputs": [],
   "source": [
    "dtrump <- userTimeline('realdonaldtrump', n=3000)"
   ]
  },
  {
   "cell_type": "code",
   "execution_count": 82,
   "metadata": {},
   "outputs": [
    {
     "data": {
      "text/plain": [
       "[[1]]\n",
       "[1] \"realDonaldTrump: Very little discussion of all the purposely false and defamatory stories put out this week by the Fake News Media.",
       " https://t.co/R8tTxg9AvK\"\n",
       "\n",
       "[[2]]\n",
       "[1] \"realDonaldTrump: Getting closer and closer on the Tax Cut Bill. Shaping up even better than projected. House and Senate working very",
       " https://t.co/fKLVfqSmsK\"\n",
       "\n",
       "[[3]]\n",
       "[1] \"realDonaldTrump: Things are going really well for our economy, a subject the Fake News spends as little time as possible discussing!",
       " https://t.co/hZfaovKX9L\"\n",
       "\n",
       "[[4]]\n",
       "[1] \"realDonaldTrump: No American should be separated from their loved ones because of preventable crime committed by those illegally in",
       " https://t.co/leuQTYO8zk\"\n",
       "\n",
       "[[5]]\n",
       "[1] \"realDonaldTrump: Great Army - Navy Game. Army wins 14 to 13 and brings home the COMMANDER-IN-CHIEFS TROPHY! Congratulations!\"\n",
       "\n",
       "[[6]]\n",
       "[1] \"realDonaldTrump: .@daveweigel of the Washington Post just admitted that his picture was a FAKE (fraud?) showing an almost empty aren",
       " https://t.co/wERMFP0Wcp\"\n"
      ]
     },
     "metadata": {},
     "output_type": "display_data"
    }
   ],
   "source": [
    "head(dtrump)"
   ]
  },
  {
   "cell_type": "code",
   "execution_count": 109,
   "metadata": {
    "collapsed": true
   },
   "outputs": [],
   "source": [
    "library(wordcloud)\n",
    "library(RColorBrewer)\n",
    "\n",
    "#Tweet-Text extrahieren\n",
    "tweet.text<-sapply(dtrump, function(x) x$getText())"
   ]
  },
  {
   "cell_type": "code",
   "execution_count": 113,
   "metadata": {
    "collapsed": true
   },
   "outputs": [],
   "source": [
    "tryTolower = function(x)\n",
    "{\n",
    "# create missing value\n",
    "# this is where the returned value will be\n",
    "y = NA\n",
    "# tryCatch error\n",
    "try_error = tryCatch(tolower(x), error = function(e) e)\n",
    "# kein Fehler:\n",
    "if (!inherits(try_error, \"error\"))\n",
    "y = tolower(x)\n",
    "return(y)\n",
    "}\n",
    "tweet.text<-sapply(tweet.text, function(x) tryTolower(x))\n",
    " \n",
    "## Wortkorpus erstellen\n",
    "tweet.corpus<-Corpus(VectorSource(enc2utf8(tweet.text)))\n",
    "\n",
    "## URLs löschen\n",
    "removeURL <- function(x) gsub(\"http[^[:space:]]*\", \"\", x)\n",
    "tweet.corpus <- tm_map(tweet.corpus, content_transformer(removeURL))\n",
    "    \n",
    "    \n",
    "# Zahlen, Satzzeichen und Stopwörter löschen und alles in Kleinbuchstaben\n",
    "tdm = TermDocumentMatrix(tweet.corpus, control = list(removePunctuation = TRUE, stopwords = TRUE, removeNumbers = TRUE, tolower = TRUE))\n",
    " \n",
    "#Worthäufigkeiten ermitteln\n",
    "# Definition von tdm als Matrix\n",
    "m = as.matrix(tdm)\n",
    "# Worthäufigkeit in absteigender Reihenfolge\n",
    "word_freqs = sort(rowSums(m), decreasing=TRUE)\n",
    "# Dataframe erzeugen\n",
    "dm = data.frame(word=names(word_freqs), freq=word_freqs)"
   ]
  },
  {
   "cell_type": "markdown",
   "metadata": {},
   "source": [
    "# <span style=\"color:red\">Kommentar JI</span>\n",
    "Kommentare ganz oben evenutell auch in Deutsch, damit es einheitlich ist"
   ]
  },
  {
   "cell_type": "code",
   "execution_count": 114,
   "metadata": {},
   "outputs": [
    {
     "data": {
      "image/png": "[encoded data removed]",
      "text/plain": [
       "plot without title"
      ]
     },
     "metadata": {},
     "output_type": "display_data"
    }
   ],
   "source": [
    "wordcloud(dm$word, dm$freq, random.order=FALSE, colors=brewer.pal(8, \"Dark2\"), min.freq=10,max.words=100)"
   ]
  },
  {
   "cell_type": "markdown",
   "metadata": {},
   "source": [
    "Wie wir nun sehen können, ist das am häufigsten getweetete Wort von Donald Trump *great*, ganz nach dem Motto *Make Amerika great again*. Ansonsten finden wir noch politische Begriffe, wie *tax*, *military*, *hillary* oder auch *clinton*. Auch *korea* findet seinen verdienten Platz in der Cloud. \n",
    "\n",
    "\n",
    "\n",
    "## Fazit\n",
    "\n",
    "Auch in R lässt sich Twitter Mining betreiben. Dabei kann R ähnliche Abfragen wie Python. Letzten Endes ist es nur eine Frage des eigenen Beliebens, mit welcher Bibliothek man arbeiten möchte."
   ]
  },
  {
   "cell_type": "markdown",
   "metadata": {},
   "source": [
    "# <span style=\"color:red\">Kommentar JI</span>\n",
    "Wie auch in Python wurde das Thema sehr schön dargestellt, mir gefällt die Alternative. \n",
    "Der Code könnte allerdings, wie in Python auch, etwas näher durch Kommentare erklärt werden."
   ]
  },
  {
   "cell_type": "markdown",
   "metadata": {},
   "source": [
    "# Quellen\n",
    "\n",
    "https://cran.r-project.org/web/packages/twitteR/twitteR.pdf\n",
    "\n",
    "http://geoffjentry.hexdump.org/twitteR.pdf\n",
    "\n",
    "http://www.rdatamining.com/docs/twitter-analysis-with-r\n",
    "\n",
    "http://statistics.ohlsen-web.de/twitter-mining-teil2/"
   ]
  }
 ],
 "metadata": {
  "kernelspec": {
   "display_name": "R",
   "language": "R",
   "name": "ir"
  },
  "language_info": {
   "codemirror_mode": "r",
   "file_extension": ".r",
   "mimetype": "text/x-r-source",
   "name": "R",
   "pygments_lexer": "r",
   "version": "3.4.2"
  }
 },
 "nbformat": 4,
 "nbformat_minor": 2
}
